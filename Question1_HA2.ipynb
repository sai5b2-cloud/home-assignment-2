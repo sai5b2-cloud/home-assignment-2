{
  "nbformat": 4,
  "nbformat_minor": 0,
  "metadata": {
    "colab": {
      "provenance": []
    },
    "kernelspec": {
      "name": "python3",
      "display_name": "Python 3"
    },
    "language_info": {
      "name": "python"
    }
  },
  "cells": [
    {
      "cell_type": "code",
      "execution_count": 2,
      "metadata": {
        "colab": {
          "base_uri": "https://localhost:8080/"
        },
        "id": "SoIdLiyJ_Lgd",
        "outputId": "9a7605d7-d645-4bab-8ef7-1f2899038eab"
      },
      "outputs": [
        {
          "output_type": "stream",
          "name": "stdout",
          "text": [
            "\n",
            "Stride = 1, Padding = 'VALID'\n",
            " [[0. 0. 0.]\n",
            " [0. 0. 0.]\n",
            " [0. 0. 0.]]\n",
            "\n",
            "Stride = 1, Padding = 'SAME'\n",
            " [[  4.   3.   2.   1.  -6.]\n",
            " [ -5.   0.   0.   0. -11.]\n",
            " [-10.   0.   0.   0. -16.]\n",
            " [-15.   0.   0.   0. -21.]\n",
            " [-46. -27. -28. -29. -56.]]\n",
            "\n",
            "Stride = 2, Padding = 'VALID'\n",
            " [[0. 0.]\n",
            " [0. 0.]]\n",
            "\n",
            "Stride = 2, Padding = 'SAME'\n",
            " [[  4.   2.  -6.]\n",
            " [-10.   0. -16.]\n",
            " [-46. -28. -56.]]\n"
          ]
        }
      ],
      "source": [
        "import numpy as np\n",
        "import tensorflow as tf\n",
        "\n",
        "# 1. Define the input matrix (5x5)\n",
        "input_matrix = np.array([\n",
        "    [1, 2, 3, 4, 5],\n",
        "    [6, 7, 8, 9, 10],\n",
        "    [11, 12, 13, 14, 15],\n",
        "    [16, 17, 18, 19, 20],\n",
        "    [21, 22, 23, 24, 25]\n",
        "], dtype=np.float32)\n",
        "\n",
        "# 2. Define the kernel (3x3)\n",
        "kernel = np.array([\n",
        "    [0, 1, 0],\n",
        "    [1, -4, 1],\n",
        "    [0, 1, 0]\n",
        "], dtype=np.float32)\n",
        "\n",
        "# Reshape input and kernel to match TensorFlow format\n",
        "# TensorFlow expects: input [batch, height, width, channels], kernel [height, width, in_channels, out_channels]\n",
        "input_tensor = tf.constant(input_matrix.reshape(1, 5, 5, 1))\n",
        "kernel_tensor = tf.constant(kernel.reshape(3, 3, 1, 1))\n",
        "\n",
        "# 3. Define convolution function\n",
        "def apply_convolution(stride, padding):\n",
        "    output = tf.nn.conv2d(input_tensor, kernel_tensor, strides=[1, stride, stride, 1], padding=padding)\n",
        "    return tf.squeeze(output).numpy()  # remove dimensions of size 1 for easier viewing\n",
        "\n",
        "# 4. Apply convolutions with different parameters and print results\n",
        "configs = [\n",
        "    (1, 'VALID'),\n",
        "    (1, 'SAME'),\n",
        "    (2, 'VALID'),\n",
        "    (2, 'SAME')\n",
        "]\n",
        "\n",
        "for stride, padding in configs:\n",
        "    result = apply_convolution(stride, padding)\n",
        "    print(f\"\\nStride = {stride}, Padding = '{padding}'\\n\", result)\n"
      ]
    }
  ]
}